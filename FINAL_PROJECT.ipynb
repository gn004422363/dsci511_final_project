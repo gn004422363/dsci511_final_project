{
 "cells": [
  {
   "cell_type": "markdown",
   "metadata": {
    "id": "Jw189z0RspG6"
   },
   "source": [
    "## FINAL PROJECT DSCI 511 - Making an Impact in our Communities: PA"
   ]
  },
  {
   "cell_type": "markdown",
   "metadata": {
    "id": "37gv0oTAssBa"
   },
   "source": [
    "### TEAM MEMBERS\n",
    "\n",
    "  - Weiying Wang (Rachel)\n",
    "  - Man Tik Li (Justin)\n",
    "  - Rodney McGhee (RJ)\n",
    "  - Grace Sigalla\n"
   ]
  },
  {
   "cell_type": "markdown",
   "metadata": {
    "id": "FvclJp33sxEO"
   },
   "source": [
    "### PROJECT GOAL"
   ]
  },
  {
   "cell_type": "markdown",
   "metadata": {
    "id": "JURDixkts9Yf"
   },
   "source": [
    "\n",
    "\n",
    "*   For our project, we wanted to create a simplified database containing what we belive to be key information regarding PA counties. The information, such as poverty rate and employment rate, will be beneficial for the government and other non profit organizations that aim at creating developmental resources to help individuals in those communities. While the census website has all information needed, it could be very cumbersome to look for each information, especially for those without a tech background. Hence, our project aims at simplifiying that work, and pulling key information that will be beneficial for those looking to provide resources, or just trying to understand the economy of the communities.\n",
    "\n",
    "*   We are collecting the data regarding PA counties from the census, specifically from their ACS 2019 survey (2020 data was not yet provided at the time we did our project) https://www.census.gov/programs-surveys/acs The data we chose to select are: county name, income rate, health coverage, employment and poverty percentage.\n",
    "\n",
    "*   We also collected information from wikipedia, containing brief sumarry of PA counties that are represented in our project. \n",
    "\n",
    "\n"
   ]
  },
  {
   "cell_type": "markdown",
   "metadata": {
    "id": "gNcSQhHHs69O"
   },
   "source": [
    "## DISTRIBUTION\n"
   ]
  },
  {
   "cell_type": "markdown",
   "metadata": {
    "id": "6wKFqezeucNR"
   },
   "source": [
    "We have our project uploaded on Github from where it can be accessed at any point in time. "
   ]
  },
  {
   "cell_type": "markdown",
   "metadata": {
    "id": "QyWk_NYVuf0T"
   },
   "source": [
    "Github link and distribution goes here: https://github.com/gn004422363/dsci511_final_project"
   ]
  },
  {
   "cell_type": "markdown",
   "metadata": {},
   "source": [
    "## Libraries in Use"
   ]
  },
  {
   "cell_type": "code",
   "execution_count": 1,
   "metadata": {},
   "outputs": [],
   "source": [
    "import requests\n",
    "import mysql.connector \n",
    "from bs4 import BeautifulSoup\n",
    "from tqdm import tqdm"
   ]
  },
  {
   "cell_type": "markdown",
   "metadata": {
    "id": "rIcUf0D8u45-"
   },
   "source": [
    "## Data Acquisition"
   ]
  },
  {
   "cell_type": "markdown",
   "metadata": {
    "id": "hODAiOxh-sJq"
   },
   "source": [
    "The Census Bureau conducts surveys on behalf of various federal government and local government agencies on topics such as employment, crime, health, consumer expenditures, and housing. \n",
    "\n"
   ]
  },
  {
   "cell_type": "markdown",
   "metadata": {
    "id": "rRhtaOOfALbW"
   },
   "source": [
    "\n",
    "\n",
    "*  First, we had to collect the data from the Census. \n",
    "\n",
    "*  Currently, the Census Bureau offers the public wider access to key U.S. statistics through the Census application programming interface (API) \n",
    "\n",
    "Here is an example of the request: \n",
    "\n",
    "```\n",
    "requests.get(\"https://api.census.gov/data/2019/acs/acs1/profile?get=NAME,\" + Code_from_Census + \"&for=county:*&in=state:42\" + Key)\n",
    "``"
   ]
  },
  {
   "cell_type": "markdown",
   "metadata": {
    "id": "ROM064AiCA56"
   },
   "source": [
    "```\n",
    "# \"https://api.census.gov/data/2019/acs/acs1/profile?get=NAME\"\n",
    "```\n",
    "The above URL represents the of survey we are pulling data from. ACS stands for the American Community Serivce Survey\n",
    "\n",
    "Following the url, \n",
    "```\n",
    "# \"Code_from_Census\"\n",
    "```\n",
    "This represents a question from the Census. In the code, we used a variable to store the question code so the code can easily switch between the different questions for our data points.\n",
    "\n",
    "Immediatly after the code,\n",
    "```\n",
    "# \"&for=county:*&in=state:42\"\n",
    "```\n",
    "with this piece of code we can chose what area from the data comes from. In this code, we break the data down by county and state. Each county and state is represted by a number. We can grab every single county from a by state using the * character\n",
    "\n",
    "Finally,\n",
    "\n",
    "```\n",
    "# \"APIKEY\"\n",
    "```\n",
    "*   We can access the API by signining up for a Key through their website. \n",
    "\n",
    "*    **Once we make the call, we can grab the data we need as a JSON Object**\n",
    "\n",
    "\n",
    "\n"
   ]
  },
  {
   "cell_type": "code",
   "execution_count": 2,
   "metadata": {},
   "outputs": [],
   "source": [
    "def create_Request_Call():\n",
    "    RJkey = \"&key=0e7d419f16558d78e1ba8cd3a868e417d8f06239\"\n",
    "    incomebyfamily = \"DP03_0086E\"\n",
    "    censusdata = requests.get(\"https://api.census.gov/data/2019/acs/acs1/profile?get=NAME,\" + incomebyfamily + \"&for=county:*&in=state:42\" + RJkey)\n",
    "    \n",
    "    return censusdata.json()"
   ]
  },
  {
   "cell_type": "markdown",
   "metadata": {},
   "source": [
    "## Data Manipulation\n"
   ]
  },
  {
   "cell_type": "markdown",
   "metadata": {
    "id": "DlYEjhf3LAoq"
   },
   "source": [
    "### Web Scraping for the Wikipedia"
   ]
  },
  {
   "cell_type": "markdown",
   "metadata": {
    "id": "uuJJJtvFLEdp"
   },
   "source": [
    "We then grab data from the other survey by switching out the question code, and append it to the nested list.\n",
    "\n",
    "\n",
    "\n",
    "```\n",
    "#    censusIncomedata = requests.get(\"https://api.census.gov/data/2019/acs/acs1/profile?get=NAME,\" + incomebyfamily + \"&for=county:*&in=state:42\" + RJkey)\n",
    "    censusIncomeData = censusIncomedata.json()\n",
    "   \n",
    "    for i, income in enumerate(CityNames):\n",
    "        if counterForIncome > 40:\n",
    "            break\n",
    "        x = censusIncomeData[counterForIncome][1]\n",
    "        CityNames[i].append(x)\n",
    "```\n",
    "\n",
    "We then have a nested list with the data we want to upload to the database!\n"
   ]
  },
  {
   "cell_type": "markdown",
   "metadata": {},
   "source": [
    "Once we have our first pull, we parse through the document grabing the name of the county  \n",
    "\n",
    "```\n",
    "  for city in jsondocument:\n",
    "        citynameaslist = []\n",
    "        if cityNamecounter > 40:\n",
    "            break\n",
    "        cityNameString = jsondocument[cityNamecounter][0]\n",
    "        citynameaslist.append(cityNameString)\n",
    "        listofCities.append(citynameaslist)\n",
    "        cityNamecounter = cityNamecounter + 1\n",
    "```\n",
    "Then storing into a nested list that looks like this\n",
    "```\n",
    "# [[County1],[County2],[County3], etc....]\n",
    "```"
   ]
  },
  {
   "cell_type": "code",
   "execution_count": 3,
   "metadata": {},
   "outputs": [],
   "source": [
    "def create_city_list(jsondocument):\n",
    "    cityNameString = ''\n",
    "    cityNamecounter = 1\n",
    "    listofCities = []\n",
    "    for city in jsondocument:\n",
    "        citynameaslist = []\n",
    "        if cityNamecounter > 40:\n",
    "            break\n",
    "        cityNameString = jsondocument[cityNamecounter][0]\n",
    "        citynameaslist.append(cityNameString)\n",
    "        listofCities.append(citynameaslist)\n",
    "        cityNamecounter = cityNamecounter + 1\n",
    "    \n",
    "    return listofCities\n",
    "        "
   ]
  },
  {
   "cell_type": "markdown",
   "metadata": {},
   "source": [
    "We then use the parse list of county names and edit the names to fit the wikipedia articles url.\n",
    "\n",
    "```\n",
    "def getWikiData(CityNames):\n",
    "    counterForWiki = 0\n",
    "    pageURLpath = \"\"\n",
    "    for i, cities in enumerate(CityNames):\n",
    "        wikiData = \"\"\n",
    "        if counterForWiki > 40:\n",
    "            break\n",
    "        cityName = CityNames[counterForWiki][0]\n",
    "        urlReadyString = cityName.replace(\" \", \"_\")\n",
    "```\n",
    "\n",
    "Then, we concatenate the wikipedia API call and the newly created county name url. \n",
    "\n",
    "```\n",
    "API_path = \"https://en.wikipedia.org/api/rest_v1/\"\n",
    "##Create URL\n",
    "        pageURLpath = \"page/summary/\" + urlReadyString\n",
    "        API_Path_With_Link = API_path + pageURLpath\n",
    "    \n",
    "\n",
    "```\n",
    "Finally, we call the wikipedia API use the rest module to grab the \"extract\", append the data to each county list and return the data.\n",
    "\n",
    "\n",
    "\n",
    "```\n",
    "        r = requests.get(API_Path_With_Link)\n",
    "        County = r.json()\n",
    "        wikiData = County[\"extract\"]\n",
    "        CityNames[i].append(wikiData)\n",
    "```"
   ]
  },
  {
   "cell_type": "code",
   "execution_count": 4,
   "metadata": {},
   "outputs": [],
   "source": [
    "def getWikiData(CityNames):\n",
    "    counterForWiki = 0\n",
    "    pageURLpath = \"\"\n",
    "    for i, cities in enumerate(CityNames):\n",
    "        wikiData = \"\"\n",
    "        if counterForWiki > 40:\n",
    "            break\n",
    "        cityName = CityNames[counterForWiki][0]\n",
    "        urlReadyString = cityName.replace(\" \", \"_\")\n",
    "        API_path = \"https://en.wikipedia.org/api/rest_v1/\"\n",
    "##Create URL\n",
    "        pageURLpath = \"page/summary/\" + urlReadyString\n",
    "        API_Path_With_Link = API_path + pageURLpath\n",
    "        ##print(API_Path_With_Link)\n",
    "    \n",
    "##Call URL with request module\n",
    "        r = requests.get(API_Path_With_Link)\n",
    "        County = r.json()\n",
    "        wikiData = County[\"extract\"]\n",
    "        CityNames[i].append(wikiData)\n",
    "        counterForWiki = counterForWiki + 1\n",
    "    return CityNames\n",
    "    "
   ]
  },
  {
   "cell_type": "markdown",
   "metadata": {},
   "source": [
    "We then grab data from the other survey by switching out the question code, and append it to the nested list.\n",
    "\n",
    "```\n",
    "#    censusIncomedata = requests.get(\"https://api.census.gov/data/2019/acs/acs1/profile?get=NAME,\" + incomebyfamily + \"&for=county:*&in=state:42\" + RJkey)\n",
    "    censusIncomeData = censusIncomedata.json()\n",
    "   \n",
    "    for i, income in enumerate(CityNames):\n",
    "        if counterForIncome > 40:\n",
    "            break\n",
    "        x = censusIncomeData[counterForIncome][1]\n",
    "        CityNames[i].append(x)\n",
    "```\n",
    "\n",
    "Getting data for income:"
   ]
  },
  {
   "cell_type": "code",
   "execution_count": 5,
   "metadata": {},
   "outputs": [],
   "source": [
    "def getDataforIncome(CityNames):\n",
    "    counterForIncome = 1\n",
    "    RJkey = \"&key=0e7d419f16558d78e1ba8cd3a868e417d8f06239\"\n",
    "    incomebyfamily = \"DP03_0086E\"\n",
    "    censusIncomedata = requests.get(\"https://api.census.gov/data/2019/acs/acs1/profile?get=NAME,\" + incomebyfamily + \"&for=county:*&in=state:42\" + RJkey)\n",
    "    censusIncomeData = censusIncomedata.json()\n",
    "   \n",
    "    for i, income in enumerate(CityNames):\n",
    "        if counterForIncome > 40:\n",
    "            break\n",
    "        x = censusIncomeData[counterForIncome][1]\n",
    "        CityNames[i].append(x)\n",
    "        counterForIncome = counterForIncome + 1\n",
    "        \n",
    "    return CityNames\n",
    "        \n",
    "      "
   ]
  },
  {
   "cell_type": "markdown",
   "metadata": {},
   "source": [
    "Getting data for health coverage:"
   ]
  },
  {
   "cell_type": "code",
   "execution_count": 6,
   "metadata": {},
   "outputs": [],
   "source": [
    "def getDataforHealthCareCoverage(CityNames):\n",
    "    counterForHC = 1\n",
    "    RJkey = \"&key=0e7d419f16558d78e1ba8cd3a868e417d8f06239\"\n",
    "    healthcoverage = \"DP03_0095PE\"\n",
    "    censusHealthCaredata = requests.get(\"https://api.census.gov/data/2019/acs/acs1/profile?get=NAME,\" + healthcoverage + \"&for=county:*&in=state:42\" + RJkey)\n",
    "    censusHealthCareData = censusHealthCaredata.json()\n",
    "   \n",
    "    for i, healthcare in enumerate(CityNames):\n",
    "        if counterForHC > 40:\n",
    "            break\n",
    "        x = censusHealthCareData[counterForHC][1]\n",
    "        CityNames[i].append(x)\n",
    "        counterForHC = counterForHC + 1\n",
    "        \n",
    "    return CityNames\n",
    "        "
   ]
  },
  {
   "cell_type": "markdown",
   "metadata": {},
   "source": [
    "Getting data for employment:"
   ]
  },
  {
   "cell_type": "code",
   "execution_count": 7,
   "metadata": {},
   "outputs": [],
   "source": [
    "def getDataforEmployment(CityNames):\n",
    "    counterForEmployment = 1\n",
    "    RJkey = \"&key=0e7d419f16558d78e1ba8cd3a868e417d8f06239\"\n",
    "    employmentOverSixteen = \"DP03_0001E\"\n",
    "    censusEmploymentdata = requests.get(\"https://api.census.gov/data/2019/acs/acs1/profile?get=NAME,\" + employmentOverSixteen + \"&for=county:*&in=state:42\" + RJkey)\n",
    "    censusEmploymentData = censusEmploymentdata.json()\n",
    "   \n",
    "    for i, employment in enumerate(CityNames):\n",
    "        if counterForEmployment > 40:\n",
    "            break\n",
    "        x = censusEmploymentData[counterForEmployment][1]\n",
    "        CityNames[i].append(x)\n",
    "        counterForEmployment = counterForEmployment + 1\n",
    "        \n",
    "    return CityNames"
   ]
  },
  {
   "cell_type": "markdown",
   "metadata": {},
   "source": [
    "Getting data for pverty:"
   ]
  },
  {
   "cell_type": "code",
   "execution_count": 8,
   "metadata": {},
   "outputs": [],
   "source": [
    "def getDataforPoverty(CityNames):\n",
    "    counterForPoverty = 1\n",
    "    RJkey = \"&key=0e7d419f16558d78e1ba8cd3a868e417d8f06239\"\n",
    "    povertyunder = \"DP03_0134PE\"\n",
    "    censusPovertydata = requests.get(\"https://api.census.gov/data/2019/acs/acs1/profile?get=NAME,\" + povertyunder + \"&for=county:*&in=state:42\" + RJkey)\n",
    "    censusPovertyData = censusPovertydata.json()\n",
    "   \n",
    "    for i, employment in enumerate(CityNames):\n",
    "        if counterForPoverty > 40:\n",
    "            break\n",
    "        x = censusPovertyData[counterForPoverty][1]\n",
    "        CityNames[i].append(x)\n",
    "        counterForPoverty = counterForPoverty + 1\n",
    "\n",
    "    return CityNames    "
   ]
  },
  {
   "cell_type": "markdown",
   "metadata": {},
   "source": [
    "We then have a nested list with the data we want to upload to the database!"
   ]
  },
  {
   "cell_type": "markdown",
   "metadata": {},
   "source": [
    "## Database"
   ]
  },
  {
   "cell_type": "markdown",
   "metadata": {},
   "source": [
    "After we extracted and cleaned the data. We will store them into MySQL database. The SQL database was hosted from MYSQLWorkbrench.\n",
    "\n",
    "To able to connect to the server. You will need the IP address (host) and port from MYSQLWorkbrench. Then, you will need to enter the username and the password to grant access to the SQL.\n",
    "\n",
    "After that, we will need to create a database named \"dsci511db\" to store our table."
   ]
  },
  {
   "cell_type": "code",
   "execution_count": 9,
   "metadata": {},
   "outputs": [
    {
     "name": "stdout",
     "output_type": "stream",
     "text": [
      "('dsci511db',)\n",
      "('information_schema',)\n",
      "('mysql',)\n",
      "('performance_schema',)\n",
      "('sys',)\n"
     ]
    },
    {
     "data": {
      "text/plain": [
       "True"
      ]
     },
     "execution_count": 9,
     "metadata": {},
     "output_type": "execute_result"
    }
   ],
   "source": [
    "# This code create a database in MySQL\n",
    "# Connect to server\n",
    "cnx = mysql.connector.connect(\n",
    "host=\"127.0.0.1\",\n",
    "port=3306,\n",
    "user=\"root\",\n",
    "password=mypassword)\n",
    "\n",
    "# Get a cursor\n",
    "cur = cnx.cursor()\n",
    "\n",
    "# Create database\n",
    "cur.execute(\"DROP DATABASE IF EXISTS dsci511db\")\n",
    "cur.execute(\"CREATE DATABASE dsci511db\")\n",
    "\n",
    "# Check database\n",
    "cur.execute(\"SHOW DATABASES\")\n",
    "\n",
    "# Print output\n",
    "for i in cur:\n",
    "    print(i)\n",
    "\n",
    "# Close connection\n",
    "cur.close()"
   ]
  },
  {
   "cell_type": "markdown",
   "metadata": {},
   "source": [
    "After we created the \"dsci511db\" database in MySQL. We will create a table named \"census\" to store the data we extracted from CityNames.\n",
    "\n",
    "In the following code, we will need to add database=\"dsci511db\" to tell the SQL we would like to select the dsci511db. Then, we will run the create table statement to specify the names of the columns of the table."
   ]
  },
  {
   "cell_type": "code",
   "execution_count": 10,
   "metadata": {},
   "outputs": [
    {
     "name": "stdout",
     "output_type": "stream",
     "text": [
      "('name', b'varchar(100)', 'YES', '', None, '')\n",
      "('wiki', b'varchar(1000)', 'YES', '', None, '')\n",
      "('income', b'varchar(10)', 'YES', '', None, '')\n",
      "('healthCov', b'varchar(10)', 'YES', '', None, '')\n",
      "('employment', b'varchar(10)', 'YES', '', None, '')\n",
      "('poverty', b'varchar(10)', 'YES', '', None, '')\n"
     ]
    },
    {
     "data": {
      "text/plain": [
       "True"
      ]
     },
     "execution_count": 10,
     "metadata": {},
     "output_type": "execute_result"
    }
   ],
   "source": [
    "# Connect to server and select the database \"dsci511db\" we created from above\n",
    "cnx = mysql.connector.connect(\n",
    "host=\"127.0.0.1\",\n",
    "port=3306,\n",
    "user=\"root\",\n",
    "password=mypassword,\n",
    "database=\"dsci511db\")\n",
    "\n",
    "# Get a cursor\n",
    "cur = cnx.cursor()\n",
    "\n",
    "# Create table\n",
    "cur.execute(\"DROP TABLE IF EXISTS census\")\n",
    "cur.execute(\"CREATE TABLE census (name VARCHAR(100), wiki VARCHAR(1000), income VARCHAR(10), healthCov VARCHAR(10), employment VARCHAR(10), poverty VARCHAR(10))\")\n",
    "\n",
    "# Check census table\n",
    "cur.execute(\"DESCRIBE census\")\n",
    "\n",
    "# Print output\n",
    "for i in cur:\n",
    "    print(i)\n",
    "\n",
    "# Execute a query\n",
    "\n",
    "# Close connection\n",
    "cur.close()"
   ]
  },
  {
   "cell_type": "markdown",
   "metadata": {},
   "source": [
    "The following code will inert the data into dsci511db by using insert statement:"
   ]
  },
  {
   "cell_type": "code",
   "execution_count": 11,
   "metadata": {},
   "outputs": [],
   "source": [
    "def insert_to_db(data):\n",
    "    # Connect to server\n",
    "    db = mysql.connector.connect(\n",
    "    host=\"127.0.0.1\",\n",
    "    port=3306,\n",
    "    user=\"root\",\n",
    "    password=mypassword,\n",
    "    database=\"dsci511db\")\n",
    "\n",
    "    # Get a cursor\n",
    "    cur = cnx.cursor()\n",
    "    \n",
    "    # Insert data\n",
    "    sql = \"INSERT INTO census(name, wiki, income, healthCov, employment, poverty) VALUES (%s, %s, %s, %s, %s, %s)\"\n",
    "    \n",
    "    for i in data:\n",
    "        cur.execute(sql, i)\n",
    "        \n",
    "    db.commit()"
   ]
  },
  {
   "cell_type": "markdown",
   "metadata": {},
   "source": [
    "This function will run the query and print out the result in format."
   ]
  },
  {
   "cell_type": "code",
   "execution_count": 12,
   "metadata": {},
   "outputs": [],
   "source": [
    "def get_queries():\n",
    "    # Connect to server\n",
    "    db = mysql.connector.connect(\n",
    "    host=\"127.0.0.1\",\n",
    "    port=3306,\n",
    "    user=\"root\",\n",
    "    password=mypassword,\n",
    "    database=\"dsci511db\")\n",
    "\n",
    "    # Get a cursor\n",
    "    cur = cnx.cursor()\n",
    "\n",
    "    # Query\n",
    "    query = \"SELECT * FROM census\"\n",
    "    cur.execute(query)\n",
    "    \n",
    "    # Fetch the data and store in result\n",
    "    result = cur.fetchall()\n",
    "    \n",
    "    # Bold\n",
    "    start = \"\\033[1m\"\n",
    "    end = \"\\033[0;0m\"\n",
    "    \n",
    "    # Output\n",
    "    for (name, summary, income, health, employment, povert) in result:\n",
    "            print(start + \"Name =\" + end, name)\n",
    "            print(start + \"Summary =\" + end, summary)\n",
    "            print(start + \"Income in 2019 =\" + end, income)\n",
    "            print(start + \"Health Coverage =\" + end, health)\n",
    "            print(start + \"Employment =\" + end, employment)\n",
    "            print(start + \"Percent in Povert =\" + end, povert, \"%\\n\")\n",
    "            \n",
    "    cur.close()"
   ]
  },
  {
   "cell_type": "markdown",
   "metadata": {},
   "source": [
    "## Output"
   ]
  },
  {
   "cell_type": "markdown",
   "metadata": {},
   "source": [
    "The output will print in following format:\n",
    "1. Name\n",
    "2. Wikidedia\n",
    "3. Income in 2019\n",
    "4. HealthCoverage\n",
    "5. Employment\n",
    "6. Percent in Povert"
   ]
  },
  {
   "cell_type": "code",
   "execution_count": 13,
   "metadata": {},
   "outputs": [
    {
     "name": "stdout",
     "output_type": "stream",
     "text": [
      "\u001b[1mName =\u001b[0;0m Cumberland County, Pennsylvania\n",
      "\u001b[1mSummary =\u001b[0;0m Cumberland County is a county located in the U.S. state of Pennsylvania. As of the 2010 census, the population was 235,406. Its county seat is Carlisle.\n",
      "\u001b[1mIncome in 2019 =\u001b[0;0m 93456\n",
      "\u001b[1mHealth Coverage =\u001b[0;0m 245100\n",
      "\u001b[1mEmployment =\u001b[0;0m 207849\n",
      "\u001b[1mPercent in Povert =\u001b[0;0m 6.4 %\n",
      "\n",
      "\u001b[1mName =\u001b[0;0m Allegheny County, Pennsylvania\n",
      "\u001b[1mSummary =\u001b[0;0m Allegheny County is located in the southwest of the U.S. state of Pennsylvania. As of the 2020 census, the population was 1,250,578, making it the state's second-most populous county, following Philadelphia County. The county seat is Pittsburgh.\n",
      "Allegheny County is included in the Pittsburgh, PA Metropolitan Statistical Area, and in the Pittsburgh Designated Market Area.\n",
      "\u001b[1mIncome in 2019 =\u001b[0;0m 90891\n",
      "\u001b[1mHealth Coverage =\u001b[0;0m 1203380\n",
      "\u001b[1mEmployment =\u001b[0;0m 1015496\n",
      "\u001b[1mPercent in Povert =\u001b[0;0m 10.8 %\n",
      "\n",
      "\u001b[1mName =\u001b[0;0m Westmoreland County, Pennsylvania\n",
      "\u001b[1mSummary =\u001b[0;0m Westmoreland County is a county located in the U.S. state of Pennsylvania. At the 2010 census, the population was 365,169. The county seat is Greensburg. Formed from, successively, Lancaster, Northumberland, and later Bedford Counties, Westmoreland County was founded on February 26, 1773, and was the first county in the colony of Pennsylvania whose entire territorial boundary was located west of the Allegheny Mountains. Westmoreland County originally included the present-day counties of Fayette, Washington, Greene, and parts of Beaver, Allegheny, Indiana, and Armstrong counties. It is named after Westmorland, a historic county of England.\n",
      "\u001b[1mIncome in 2019 =\u001b[0;0m 79124\n",
      "\u001b[1mHealth Coverage =\u001b[0;0m 345836\n",
      "\u001b[1mEmployment =\u001b[0;0m 293065\n",
      "\u001b[1mPercent in Povert =\u001b[0;0m 10.6 %\n",
      "\n",
      "\u001b[1mName =\u001b[0;0m Blair County, Pennsylvania\n",
      "\u001b[1mSummary =\u001b[0;0m Blair County is a county located in the U.S. Commonwealth of Pennsylvania. As of the 2010 census, the population was 127,089. Its county seat is Hollidaysburg. The county was created on February 26, 1846, from parts of Huntingdon and Bedford counties.\n",
      "\u001b[1mIncome in 2019 =\u001b[0;0m 65157\n",
      "\u001b[1mHealth Coverage =\u001b[0;0m 120337\n",
      "\u001b[1mEmployment =\u001b[0;0m 100095\n",
      "\u001b[1mPercent in Povert =\u001b[0;0m 14.6 %\n",
      "\n",
      "\u001b[1mName =\u001b[0;0m Lawrence County, Pennsylvania\n",
      "\u001b[1mSummary =\u001b[0;0m Lawrence County is a county located in the U.S. state of Pennsylvania. As of the 2010 census, the population was 91,108. The county seat is New Castle.\n",
      "\u001b[1mIncome in 2019 =\u001b[0;0m 65807\n",
      "\u001b[1mHealth Coverage =\u001b[0;0m 84545\n",
      "\u001b[1mEmployment =\u001b[0;0m 70604\n",
      "\u001b[1mPercent in Povert =\u001b[0;0m 10.9 %\n",
      "\n",
      "\u001b[1mName =\u001b[0;0m Cambria County, Pennsylvania\n",
      "\u001b[1mSummary =\u001b[0;0m Cambria County is a county located in the U.S. state of Pennsylvania. As of the 2010 census, the population was 143,679. Its county seat is Ebensburg. The county was created on March 26, 1804, from parts of Bedford, Huntingdon, and Somerset Counties and later organized in 1807. It was named for the nation of Wales, which in Latin is known as \"Cambria\".\n",
      "\u001b[1mIncome in 2019 =\u001b[0;0m 66461\n",
      "\u001b[1mHealth Coverage =\u001b[0;0m 126562\n",
      "\u001b[1mEmployment =\u001b[0;0m 108727\n",
      "\u001b[1mPercent in Povert =\u001b[0;0m 14.3 %\n",
      "\n",
      "\u001b[1mName =\u001b[0;0m Chester County, Pennsylvania\n",
      "\u001b[1mSummary =\u001b[0;0m Chester County, colloquially known as Chesco, is a county in the southeastern part of the U.S. state of Pennsylvania. As of the 2020 census, the population was 534,413, increasing by 7.1% from 498,886 in 2010. The county seat and most populated municipality is West Chester. Chester County was one of the three original Pennsylvania counties created by William Penn in 1682. It was named for Chester, England.\n",
      "\u001b[1mIncome in 2019 =\u001b[0;0m 129511\n",
      "\u001b[1mHealth Coverage =\u001b[0;0m 520393\n",
      "\u001b[1mEmployment =\u001b[0;0m 421901\n",
      "\u001b[1mPercent in Povert =\u001b[0;0m 5.9 %\n",
      "\n",
      "\u001b[1mName =\u001b[0;0m Berks County, Pennsylvania\n",
      "\u001b[1mSummary =\u001b[0;0m Berks County is a county located in the U.S. commonwealth of Pennsylvania. As of the 2020 census, the population was 428,849. The county seat is Reading.\n",
      "\u001b[1mIncome in 2019 =\u001b[0;0m 81575\n",
      "\u001b[1mHealth Coverage =\u001b[0;0m 415920\n",
      "\u001b[1mEmployment =\u001b[0;0m 338456\n",
      "\u001b[1mPercent in Povert =\u001b[0;0m 9.1 %\n",
      "\n",
      "\u001b[1mName =\u001b[0;0m Crawford County, Pennsylvania\n",
      "\u001b[1mSummary =\u001b[0;0m Crawford County is a county located in the U.S. state of Pennsylvania. As of the 2010 census, the population was 88,765. Its county seat is Meadville. The county was created on March 12, 1800, from part of Allegheny County and named for Colonel William Crawford.\n",
      "\u001b[1mIncome in 2019 =\u001b[0;0m 62100\n",
      "\u001b[1mHealth Coverage =\u001b[0;0m 82700\n",
      "\u001b[1mEmployment =\u001b[0;0m 69527\n",
      "\u001b[1mPercent in Povert =\u001b[0;0m 10.9 %\n",
      "\n",
      "\u001b[1mName =\u001b[0;0m Erie County, Pennsylvania\n",
      "\u001b[1mSummary =\u001b[0;0m Erie County is a county located in the U.S. state of Pennsylvania. As of the 2020 census, the population was 270,876. Its county seat is Erie. The county was created in 1800 and later organized in 1803.\n",
      "\u001b[1mIncome in 2019 =\u001b[0;0m 67505\n",
      "\u001b[1mHealth Coverage =\u001b[0;0m 262654\n",
      "\u001b[1mEmployment =\u001b[0;0m 219200\n",
      "\u001b[1mPercent in Povert =\u001b[0;0m 16.7 %\n",
      "\n",
      "\u001b[1mName =\u001b[0;0m Schuylkill County, Pennsylvania\n",
      "\u001b[1mSummary =\u001b[0;0m Schuylkill County is a county in the U.S. state of Pennsylvania. As of the 2020 census, the population was 143,049. The county seat is Pottsville. The county was created on March 1, 1811, from parts of Berks and Northampton counties and named for the Schuylkill River, which originates in the county. On March 3, 1818, additional territory in its northeast was added from Columbia and Luzerne counties.\n",
      "\u001b[1mIncome in 2019 =\u001b[0;0m 67787\n",
      "\u001b[1mHealth Coverage =\u001b[0;0m 134036\n",
      "\u001b[1mEmployment =\u001b[0;0m 117041\n",
      "\u001b[1mPercent in Povert =\u001b[0;0m 12.0 %\n",
      "\n",
      "\u001b[1mName =\u001b[0;0m Adams County, Pennsylvania\n",
      "\u001b[1mSummary =\u001b[0;0m Adams County is a county in the U.S. state of Pennsylvania. As of the 2010 census, the population was 101,407. Its county seat is Gettysburg. The county was created on January 22, 1800, from part of York County, and was named for the second President of the United States, John Adams. On July 1–3, 1863, a crucial battle of the American Civil War was fought near Gettysburg; Adams County as a result is a center of Civil War tourism.\n",
      "\u001b[1mIncome in 2019 =\u001b[0;0m 81210\n",
      "\u001b[1mHealth Coverage =\u001b[0;0m 101762\n",
      "\u001b[1mEmployment =\u001b[0;0m 85446\n",
      "\u001b[1mPercent in Povert =\u001b[0;0m 7.2 %\n",
      "\n",
      "\u001b[1mName =\u001b[0;0m Armstrong County, Pennsylvania\n",
      "\u001b[1mSummary =\u001b[0;0m Armstrong County is a county located in the U.S. state of Pennsylvania. As of the 2010 census, the population was 68,941. The county seat is Kittanning. The county was organized on March 12, 1800, from parts of Allegheny, Westmoreland and Lycoming Counties. It was named in honor of John Armstrong, who represented Pennsylvania in the Continental Congress and served as a major general during the Revolutionary War.\n",
      "\u001b[1mIncome in 2019 =\u001b[0;0m 68733\n",
      "\u001b[1mHealth Coverage =\u001b[0;0m 64070\n",
      "\u001b[1mEmployment =\u001b[0;0m 53798\n",
      "\u001b[1mPercent in Povert =\u001b[0;0m 8.7 %\n",
      "\n",
      "\u001b[1mName =\u001b[0;0m Carbon County, Pennsylvania\n",
      "\u001b[1mSummary =\u001b[0;0m Carbon County is a county located in the U.S. state of Pennsylvania. As of the 2020 census, the population was 64,749. Its county seat is Jim Thorpe, which was founded in 1818 as Mauch Chunk, a company town of the Lehigh Coal & Navigation Company (LC&N) along a new wagon road the company was constructing nine miles long to their coal mine, in the area now known as Summit Hill. LC&N also constructed the Lehigh Canal navigations during this time in the area.\n",
      "\u001b[1mIncome in 2019 =\u001b[0;0m 72639\n",
      "\u001b[1mHealth Coverage =\u001b[0;0m 63239\n",
      "\u001b[1mEmployment =\u001b[0;0m 53706\n",
      "\u001b[1mPercent in Povert =\u001b[0;0m 8.7 %\n",
      "\n",
      "\u001b[1mName =\u001b[0;0m Centre County, Pennsylvania\n",
      "\u001b[1mSummary =\u001b[0;0m Centre County is a county in the U.S. state of Pennsylvania. As of the 2010 census, the population was 153,990. Its county seat is Bellefonte. Centre County comprises the State College, PA Metropolitan Statistical Area.\n",
      "\u001b[1mIncome in 2019 =\u001b[0;0m 87538\n",
      "\u001b[1mHealth Coverage =\u001b[0;0m 156898\n",
      "\u001b[1mEmployment =\u001b[0;0m 141577\n",
      "\u001b[1mPercent in Povert =\u001b[0;0m 21.6 %\n",
      "\n",
      "\u001b[1mName =\u001b[0;0m Northumberland County, Pennsylvania\n",
      "\u001b[1mSummary =\u001b[0;0m Northumberland County is a county located in the U.S. state of Pennsylvania. As of the 2010 census, the population was 94,528. Its county seat is Sunbury. The county was formed in 1772 from parts of Lancaster, Berks, Bedford, Cumberland, and Northampton Counties and named for the county of Northumberland in northern England. Northumberland County is a fifth class county according to the Pennsylvania's County Code.\n",
      "\u001b[1mIncome in 2019 =\u001b[0;0m 59477\n",
      "\u001b[1mHealth Coverage =\u001b[0;0m 86952\n",
      "\u001b[1mEmployment =\u001b[0;0m 75156\n",
      "\u001b[1mPercent in Povert =\u001b[0;0m 11.8 %\n",
      "\n",
      "\u001b[1mName =\u001b[0;0m Northampton County, Pennsylvania\n",
      "\u001b[1mSummary =\u001b[0;0m Northampton County is a county in the northeastern section of the U.S. state of Pennsylvania. As of the 2020 census, the population was 312,951. Its county seat is Easton. The county was formed in 1752 from parts of Bucks County. Its namesake was Northamptonshire, England. The county seat of Easton was named for the country house Easton Neston in that shire.\n",
      "\u001b[1mIncome in 2019 =\u001b[0;0m 87976\n",
      "\u001b[1mHealth Coverage =\u001b[0;0m 302524\n",
      "\u001b[1mEmployment =\u001b[0;0m 252733\n",
      "\u001b[1mPercent in Povert =\u001b[0;0m 7.0 %\n",
      "\n",
      "\u001b[1mName =\u001b[0;0m Beaver County, Pennsylvania\n",
      "\u001b[1mSummary =\u001b[0;0m Beaver County is a county in the U.S. state of Pennsylvania. As of the 2010 census, the population was 170,539. Its county seat is Beaver. The county was created on March 12, 1800, from parts of Allegheny and Washington Counties. It took its name from the Beaver River.\n",
      "\u001b[1mIncome in 2019 =\u001b[0;0m 79450\n",
      "\u001b[1mHealth Coverage =\u001b[0;0m 162483\n",
      "\u001b[1mEmployment =\u001b[0;0m 136677\n",
      "\u001b[1mPercent in Povert =\u001b[0;0m 11.0 %\n",
      "\n",
      "\u001b[1mName =\u001b[0;0m Lackawanna County, Pennsylvania\n",
      "\u001b[1mSummary =\u001b[0;0m Lackawanna County is a U.S. county in the northeastern portion of Pennsylvania. As of the 2020 census, the population was 215,896. Its county seat and largest city is Scranton.\n",
      "\u001b[1mIncome in 2019 =\u001b[0;0m 67313\n",
      "\u001b[1mHealth Coverage =\u001b[0;0m 205870\n",
      "\u001b[1mEmployment =\u001b[0;0m 171795\n",
      "\u001b[1mPercent in Povert =\u001b[0;0m 15.3 %\n",
      "\n",
      "\u001b[1mName =\u001b[0;0m Fayette County, Pennsylvania\n",
      "\u001b[1mSummary =\u001b[0;0m Fayette County is a county of the U.S. state of Pennsylvania. Fayette County is located in southwestern Pennsylvania, adjacent to Maryland and West Virginia. As of the 2010 census, the population was 136,606. Its county seat is Uniontown. The county was created on September 26, 1783, from part of Westmoreland County and named after the Marquis de Lafayette.\n",
      "\u001b[1mIncome in 2019 =\u001b[0;0m 64528\n",
      "\u001b[1mHealth Coverage =\u001b[0;0m 125553\n",
      "\u001b[1mEmployment =\u001b[0;0m 107794\n",
      "\u001b[1mPercent in Povert =\u001b[0;0m 16.9 %\n",
      "\n",
      "\u001b[1mName =\u001b[0;0m Montgomery County, Pennsylvania\n",
      "\u001b[1mSummary =\u001b[0;0m Montgomery County is the third-most populous county in the Commonwealth of Pennsylvania, and the 73rd-most populous in the United States. As of the 2020 census, the population of the county was 856,553, representing a 7.1% increase from the 799,884 residents enumerated in the 2010 census. Montgomery County is located adjacent to and northwest of Philadelphia. The county seat and largest city is Norristown. Montgomery County is geographically diverse, ranging from farms and open land in the extreme north of the county to densely populated suburban neighborhoods in the southern and central portions of the county.\n",
      "\u001b[1mIncome in 2019 =\u001b[0;0m 115533\n",
      "\u001b[1mHealth Coverage =\u001b[0;0m 816282\n",
      "\u001b[1mEmployment =\u001b[0;0m 673231\n",
      "\u001b[1mPercent in Povert =\u001b[0;0m 5.9 %\n",
      "\n",
      "\u001b[1mName =\u001b[0;0m Clearfield County, Pennsylvania\n",
      "\u001b[1mSummary =\u001b[0;0m Clearfield County is a sixth-class county located in the U.S. state of Pennsylvania. As of the 2010 census, the population was 81,642. The county seat is Clearfield, and the largest city is DuBois. The county was created in 1804 and later organized in 1822.\n",
      "\u001b[1mIncome in 2019 =\u001b[0;0m 60907\n",
      "\u001b[1mHealth Coverage =\u001b[0;0m 73572\n",
      "\u001b[1mEmployment =\u001b[0;0m 66691\n",
      "\u001b[1mPercent in Povert =\u001b[0;0m 13.0 %\n",
      "\n",
      "\u001b[1mName =\u001b[0;0m Lebanon County, Pennsylvania\n",
      "\u001b[1mSummary =\u001b[0;0m Lebanon County is a county located in the U.S. state of Pennsylvania. As of the 2010 census, the population was 133,568. Its county seat is the city of Lebanon. The county was formed from portions of Dauphin and Lancaster counties in 1813, with minor boundary revisions in 1814 and 1821. Lebanon County comprises the Lebanon, Pennsylvania, Metropolitan Statistical Area, which is also included in the Harrisburg-York-Lebanon, Pennsylvania Combined Statistical Area. Lebanon is 72 miles northwest of Philadelphia, which is the nearest major city.\n",
      "\u001b[1mIncome in 2019 =\u001b[0;0m 76965\n",
      "\u001b[1mHealth Coverage =\u001b[0;0m 139885\n",
      "\u001b[1mEmployment =\u001b[0;0m 112923\n",
      "\u001b[1mPercent in Povert =\u001b[0;0m 10.1 %\n",
      "\n",
      "\u001b[1mName =\u001b[0;0m Lycoming County, Pennsylvania\n",
      "\u001b[1mSummary =\u001b[0;0m Lycoming County is a county in the U.S. Commonwealth of Pennsylvania. As of the 2010 census, the population was 116,111. Its county seat is Williamsport.\n",
      "\u001b[1mIncome in 2019 =\u001b[0;0m 70079\n",
      "\u001b[1mHealth Coverage =\u001b[0;0m 109925\n",
      "\u001b[1mEmployment =\u001b[0;0m 92921\n",
      "\u001b[1mPercent in Povert =\u001b[0;0m 14.6 %\n",
      "\n",
      "\u001b[1mName =\u001b[0;0m Butler County, Pennsylvania\n",
      "\u001b[1mSummary =\u001b[0;0m Butler County is located in the western part of the U.S. state of Pennsylvania. As of the 2010 census, the population was 183,862. Its county seat is Butler. Butler County was created on March 12, 1800, from part of Allegheny County and named in honor of General Richard Butler, a hero of the American Revolution.\n",
      "\u001b[1mIncome in 2019 =\u001b[0;0m 96134\n",
      "\u001b[1mHealth Coverage =\u001b[0;0m 185897\n",
      "\u001b[1mEmployment =\u001b[0;0m 155081\n",
      "\u001b[1mPercent in Povert =\u001b[0;0m 8.4 %\n",
      "\n",
      "\u001b[1mName =\u001b[0;0m Lancaster County, Pennsylvania\n",
      "\u001b[1mSummary =\u001b[0;0m Lancaster County, sometimes nicknamed the Garden Spot of America or Pennsylvania Dutch Country, is a county located in the south central part of the Commonwealth of Pennsylvania. As of the 2020 census, the population was 552,984. Its county seat is Lancaster.\n",
      "\u001b[1mIncome in 2019 =\u001b[0;0m 81132\n",
      "\u001b[1mHealth Coverage =\u001b[0;0m 539504\n",
      "\u001b[1mEmployment =\u001b[0;0m 431887\n",
      "\u001b[1mPercent in Povert =\u001b[0;0m 10.5 %\n",
      "\n",
      "\u001b[1mName =\u001b[0;0m Mercer County, Pennsylvania\n",
      "\u001b[1mSummary =\u001b[0;0m Mercer County is a county located in the U.S. state of Pennsylvania. As of the 2020 census, the population was 110,652. Its county seat is Mercer, and its largest city is Hermitage. The county was created in 1800 and later organized in 1803.\n",
      "\u001b[1mIncome in 2019 =\u001b[0;0m 70402\n",
      "\u001b[1mHealth Coverage =\u001b[0;0m 105143\n",
      "\u001b[1mEmployment =\u001b[0;0m 91646\n",
      "\u001b[1mPercent in Povert =\u001b[0;0m 13.7 %\n",
      "\n",
      "\u001b[1mName =\u001b[0;0m Delaware County, Pennsylvania\n",
      "\u001b[1mSummary =\u001b[0;0m Delaware County, colloquially referred to as Delco, is a county located in the U.S. state of Pennsylvania that borders Philadelphia. With a population of 566,747, it is the fifth most populous county in Pennsylvania, and the third smallest in area. The county was created on September 26, 1789, from part of Chester County, and named for the Delaware River.\n",
      "\u001b[1mIncome in 2019 =\u001b[0;0m 101865\n",
      "\u001b[1mHealth Coverage =\u001b[0;0m 559016\n",
      "\u001b[1mEmployment =\u001b[0;0m 455671\n",
      "\u001b[1mPercent in Povert =\u001b[0;0m 9.2 %\n",
      "\n",
      "\u001b[1mName =\u001b[0;0m Somerset County, Pennsylvania\n",
      "\u001b[1mSummary =\u001b[0;0m Somerset County is a county located in the U.S. state of Pennsylvania. As of the 2010 census, the population was 77,742. Its county seat is Somerset. The county was created from part of Bedford County on April 17, 1795, and named after the county of Somerset in England.\n",
      "\u001b[1mIncome in 2019 =\u001b[0;0m 63990\n",
      "\u001b[1mHealth Coverage =\u001b[0;0m 68398\n",
      "\u001b[1mEmployment =\u001b[0;0m 61052\n",
      "\u001b[1mPercent in Povert =\u001b[0;0m 10.7 %\n",
      "\n",
      "\u001b[1mName =\u001b[0;0m Bucks County, Pennsylvania\n",
      "\u001b[1mSummary =\u001b[0;0m Bucks County is a county located in the Commonwealth of Pennsylvania. As of the 2020 census, the population was 628,270; it is the fourth-most populous county in Pennsylvania. The county seat is Doylestown. The county is named after the English county of Buckinghamshire or more precisely, its abbreviation.\n",
      "\u001b[1mIncome in 2019 =\u001b[0;0m 112006\n",
      "\u001b[1mHealth Coverage =\u001b[0;0m 621864\n",
      "\u001b[1mEmployment =\u001b[0;0m 517501\n",
      "\u001b[1mPercent in Povert =\u001b[0;0m 5.2 %\n",
      "\n",
      "\u001b[1mName =\u001b[0;0m Lehigh County, Pennsylvania\n",
      "\u001b[1mSummary =\u001b[0;0m Lehigh County is a county located in the Lehigh Valley region of the U.S. state of Pennsylvania. As of the 2020 census, the population was 374,557. Its county seat is Allentown, the state's third-largest city behind Philadelphia and Pittsburgh. The county, which was first settled around 1730, was formed in 1812 with the division of Northampton County into two counties. It is named after the Lehigh River, whose name is derived from the Delaware Indian term Lechauweki or Lechauwekink, meaning \"where there are forks\".\n",
      "\u001b[1mIncome in 2019 =\u001b[0;0m 77262\n",
      "\u001b[1mHealth Coverage =\u001b[0;0m 364081\n",
      "\u001b[1mEmployment =\u001b[0;0m 295947\n",
      "\u001b[1mPercent in Povert =\u001b[0;0m 10.0 %\n",
      "\n",
      "\u001b[1mName =\u001b[0;0m Luzerne County, Pennsylvania\n",
      "\u001b[1mSummary =\u001b[0;0m Luzerne County is a county in the Commonwealth of Pennsylvania. According to the U.S. Census Bureau, the county has a total area of 906 square miles (2,350 km2), of which 890 square miles (2,300 km2) is land and 16 square miles (41 km2) is water. It is Northeastern Pennsylvania's second-largest county by total area. As of the 2010 census, the population was 320,918, making it the most populous county in the northeastern part of the state. The county seat and largest city is Wilkes-Barre. Other populous communities include Hazleton, Kingston, Nanticoke, and Pittston. Luzerne County is included in the Scranton–Wilkes-Barre–Hazleton Metropolitan Statistical Area, which has a total population of 555,426.\n",
      "\u001b[1mIncome in 2019 =\u001b[0;0m 65644\n",
      "\u001b[1mHealth Coverage =\u001b[0;0m 309750\n",
      "\u001b[1mEmployment =\u001b[0;0m 261733\n",
      "\u001b[1mPercent in Povert =\u001b[0;0m 14.8 %\n",
      "\n",
      "\u001b[1mName =\u001b[0;0m Columbia County, Pennsylvania\n",
      "\u001b[1mSummary =\u001b[0;0m Columbia County is a county located in the north-central part of the U.S. state of Pennsylvania. As of the 2010 census, the population was 67,295. Its county seat is Bloomsburg. The county was created on March 22, 1813, from part of Northumberland County. It was named Columbia, alluding to the United States and Christopher Columbus.\n",
      "\u001b[1mIncome in 2019 =\u001b[0;0m 66546\n",
      "\u001b[1mHealth Coverage =\u001b[0;0m 64070\n",
      "\u001b[1mEmployment =\u001b[0;0m 54783\n",
      "\u001b[1mPercent in Povert =\u001b[0;0m 16.3 %\n",
      "\n",
      "\u001b[1mName =\u001b[0;0m Dauphin County, Pennsylvania\n",
      "\u001b[1mSummary =\u001b[0;0m Dauphin County is a county in the U.S. state of Pennsylvania. As of the 2020 census, the population was 286,401. The county seat and the largest city is Harrisburg, Pennsylvania's state capital and ninth largest city. The county was created (\"erected\") on March 4, 1785, from part of Lancaster County and was named after Louis-Joseph, Dauphin of France, the first son of king Louis XVI.\n",
      "\u001b[1mIncome in 2019 =\u001b[0;0m 77445\n",
      "\u001b[1mHealth Coverage =\u001b[0;0m 274980\n",
      "\u001b[1mEmployment =\u001b[0;0m 223547\n",
      "\u001b[1mPercent in Povert =\u001b[0;0m 10.2 %\n",
      "\n",
      "\u001b[1mName =\u001b[0;0m Franklin County, Pennsylvania\n",
      "\u001b[1mSummary =\u001b[0;0m Franklin County is a county located in South Central Pennsylvania. As of the 2020 census, the population was 155,932 Its county seat is Chambersburg.\n",
      "\u001b[1mIncome in 2019 =\u001b[0;0m 77162\n",
      "\u001b[1mHealth Coverage =\u001b[0;0m 153669\n",
      "\u001b[1mEmployment =\u001b[0;0m 124489\n",
      "\u001b[1mPercent in Povert =\u001b[0;0m 6.5 %\n",
      "\n",
      "\u001b[1mName =\u001b[0;0m Monroe County, Pennsylvania\n",
      "\u001b[1mSummary =\u001b[0;0m Monroe County is a county in the U.S. Commonwealth of Pennsylvania. As of the 2010 census, the population was 168,327. Its county seat is Stroudsburg. The county was formed from sections of Northampton and Pike counties on April 1, 1836. Named in honor of James Monroe, the fifth president of the United States, the county is located in northeastern Pennsylvania, along its border with New Jersey. Monroe County is coterminous with the East Stroudsburg, PA Metropolitan Statistical Area. It also borders the Wyoming Valley, the Lehigh Valley and has connections to the Delaware Valley and the Tri-State Area being a part of New York City's Designated Media Market, but also receiving media from the Scranton/Wilkes-Barre and Philadelphia areas.\n",
      "\u001b[1mIncome in 2019 =\u001b[0;0m 77039\n",
      "\u001b[1mHealth Coverage =\u001b[0;0m 168886\n",
      "\u001b[1mEmployment =\u001b[0;0m 140935\n",
      "\u001b[1mPercent in Povert =\u001b[0;0m 11.7 %\n",
      "\n",
      "\u001b[1mName =\u001b[0;0m Washington County, Pennsylvania\n",
      "\u001b[1mSummary =\u001b[0;0m Washington County is a county in the U.S. state of Pennsylvania. As of the 2010 census, the population was 207,820. Its county seat is Washington.\n",
      "\u001b[1mIncome in 2019 =\u001b[0;0m 85110\n",
      "\u001b[1mHealth Coverage =\u001b[0;0m 205003\n",
      "\u001b[1mEmployment =\u001b[0;0m 171624\n",
      "\u001b[1mPercent in Povert =\u001b[0;0m 9.8 %\n",
      "\n",
      "\u001b[1mName =\u001b[0;0m Philadelphia County, Pennsylvania\n",
      "\u001b[1mSummary =\u001b[0;0m Philadelphia County is the most populous county in the U.S. state of Pennsylvania. As of 2019, Philadelphia County was home to an estimated population of 1,584,064 residents. The county is the second smallest county in Pennsylvania by land area. Philadelphia County is one of the three original counties, along with Chester and Bucks counties, created by William Penn during November 1682. Since 1854, the county has been coextensive with the City of Philadelphia which is also its county seat. Philadelphia County is the core county in the Philadelphia-Camden-Wilmington Combined Statistical Area, located along the lower Delaware and Schuylkill Rivers, within the Northeast megalopolis. Philadelphia County is the economic and cultural anchor of the Delaware Valley, the ninth-largest combined statistical area in the United States with an estimated population of 7.2 million.\n",
      "\u001b[1mIncome in 2019 =\u001b[0;0m 54978\n",
      "\u001b[1mHealth Coverage =\u001b[0;0m 1570389\n",
      "\u001b[1mEmployment =\u001b[0;0m 1275366\n",
      "\u001b[1mPercent in Povert =\u001b[0;0m 21.3 %\n",
      "\n",
      "\u001b[1mName =\u001b[0;0m York County, Pennsylvania\n",
      "\u001b[1mSummary =\u001b[0;0m York County is a county in the U.S. state of Pennsylvania. As of the 2020 census, the population was 456,438. Its county seat is York. The county was created on August 19, 1749, from part of Lancaster County and named either after the Duke of York, an early patron of the Penn family, or for the city and county of York in England.\n",
      "\u001b[1mIncome in 2019 =\u001b[0;0m 83957\n",
      "\u001b[1mHealth Coverage =\u001b[0;0m 444033\n",
      "\u001b[1mEmployment =\u001b[0;0m 361596\n",
      "\u001b[1mPercent in Povert =\u001b[0;0m 8.2 %\n",
      "\n",
      "\u001b[1mName =\u001b[0;0m Indiana County, Pennsylvania\n",
      "\u001b[1mSummary =\u001b[0;0m Indiana County is a county located in the West central part of the U.S. state of Pennsylvania. As of the 2010 census, the population was 88,880. Its county seat is Indiana. Indiana County comprises the Indiana, PA Micropolitan Statistical Area, which is also included in the Pittsburgh-New Castle-Weirton, PA-WV-OH Combined Statistical Area.\n",
      "\u001b[1mIncome in 2019 =\u001b[0;0m 71780\n",
      "\u001b[1mHealth Coverage =\u001b[0;0m 82689\n",
      "\u001b[1mEmployment =\u001b[0;0m 70903\n",
      "\u001b[1mPercent in Povert =\u001b[0;0m 12.0 %\n",
      "\n"
     ]
    }
   ],
   "source": [
    "## MASTER FUNCTION\n",
    "\n",
    "## create list to hold data\n",
    "dictionaryofCities = []\n",
    "\n",
    "CityNames = []\n",
    "\n",
    "jsondocument = create_Request_Call()\n",
    "CityNames = create_city_list(jsondocument)\n",
    "CityNames = getWikiData(CityNames)\n",
    "CityNames = getDataforIncome(CityNames)\n",
    "CityNames = getDataforHealthCareCoverage(CityNames)\n",
    "CityNames = getDataforEmployment(CityNames)\n",
    "CityNames = getDataforPoverty(CityNames)\n",
    "insert_to_db(CityNames)\n",
    "get_queries()"
   ]
  },
  {
   "cell_type": "markdown",
   "metadata": {},
   "source": [
    "## README"
   ]
  },
  {
   "cell_type": "markdown",
   "metadata": {},
   "source": [
    "README\n",
    "### Introduction\n",
    "\n",
    "For our project, we wanted to create a simplified database containing what we believe to be key information regarding PA counties. The information, such as poverty rate and employment rate, will be beneficial for the government and other nonprofit organizations that aim at creating developmental resources to help individuals in those communities. While the census website has all information needed, it could be very cumbersome to look for each piece of information, especially for those without a tech background. Hence, our project aims at simplifying that work and pulling key information that will be beneficial for those looking to provide resources, or just trying to understand the economy of the communities.\n",
    "\n",
    "In most cases, the best way to look up information is to google and use several sources to create a background of the community you work with. We decided to ask, \"What if we create a tool that allows us to gather crucial information about a county in one accessible space?\" The first Question we asked is \"What information do we want to grab?The Census Bureau conducts surveys on behalf of various federal government and local government agencies on topics such as employment, crime, health, consumer expenditures, and housing.We want to use the data to create a tool for non-profit organizations, government agencies, communities to understand their communities better.\n",
    "\n",
    "\n",
    "### Reach the goal\n",
    "\n",
    "Using SQL, We created a database containing important census data and important Wikipedia.The database allows the interested parties to look up counties in Pennsylvania and find information about:A General description about the county from Wikipedia. Census Data including income, Healthcare Coverage, employment, and poverty level.\n",
    "\n",
    "Our progress is: First, we had to collect the data from the Census.Currently, the Census Bureau offers the public wider access to key U.S. statistics through the Census application programming interface (API).We can access the API by signining up for a Key through their website.They offer several different surveys to access data.\n",
    "\n",
    "Census application programming interface (API): We chose The American Community Survey (ACS) from 2019 to pull data.The American Community Survey (ACS) is an ongoing survey that provides data every year -- giving communities the current information they need to plan investments and services.2020’s data is unavailable, but will be released soon. \n",
    "\n",
    "\n",
    "### Team members\n",
    "\n",
    "RJ and Grace worked on created the code that grabs the data from the Census and Wikipedia. \n",
    "Justin and Rachel created our interface for our database which stores our data.\n",
    "\n",
    "\n",
    "\n",
    "### Data\n",
    "\n",
    "First we get our key from the website:Each survey provides a code that represents a question from the Census.You then need to chose if you want to look at a state, county, or townships.We then use the get command to receive the data as a JSON.\n",
    "\n",
    "We then Parsed through the JSON file and created lists to hold our data. \n",
    "Using tools like BeautifulSoup, we used the parsed data from the JSON file to web scrape Wikipedia. \n",
    "Following this, We then exchanged the question code to find the data we want and we parse and add the data to our list. \n",
    "The data looks something like this before we add it to our database:\n",
    "[County, Wikipedia Summary, Income Data, Health Care, Employment in the county, and poverty level]\n",
    "\n",
    "\n",
    "### Challenge that we faced\n",
    "\n",
    "The Census data is released yearly, so we can only grab data from the surveys that the Census API allows us.\n",
    "Not everyone fills out the Census, so These results are always estimates\n",
    "Navigating through the Census API can be difficult since there is so many questions to go through.\n",
    "After the first part of the coding finished, We formated the data we receive from the Census in a more user-friendly way. Furthermore, We tried to split the name into county and state.\n",
    "\n",
    "\n",
    "### Instruction\n",
    "\n",
    "You can simply run it in Jupyternotebook. Database required localhost, please follow the instruction below to complete the setup.\n",
    "\n",
    "    For database:\n",
    "        1. The hosting requred MySQL and MySQL Workbrench\n",
    "        2. Create connection in MySQL Workbrench\n",
    "        3. Gather the info (host ip, port, username, password)\n",
    "        4. Paste it in coressponding row:\n",
    "            db = mysql.connector.connect(\n",
    "            host=host address,\n",
    "            port=port number,\n",
    "            user=myusername,\n",
    "            password=\"mypassword\")\n",
    "        \n",
    "### Output\n",
    "\n",
    "    1.Name - str\n",
    "    2.Wikipedia Summary - str\n",
    "    3.Income Data -str\n",
    "    4.How many people are currently have Healthcare coverage? -str\n",
    "    5.How many people are employed? -str\n",
    "    6.Percent of Individuals who are under the poverty line -str\n",
    "    \n",
    "Column information for dataset extracted from older Census data for further data analysis.\n",
    "All we need is to change the state code to get data from other states and also add more questions by changing the Question code"
   ]
  },
  {
   "cell_type": "code",
   "execution_count": null,
   "metadata": {},
   "outputs": [],
   "source": []
  }
 ],
 "metadata": {
  "colab": {
   "collapsed_sections": [],
   "name": "FINAL PROJECT README",
   "provenance": []
  },
  "kernelspec": {
   "display_name": "Python 3",
   "language": "python",
   "name": "python3"
  },
  "language_info": {
   "codemirror_mode": {
    "name": "ipython",
    "version": 3
   },
   "file_extension": ".py",
   "mimetype": "text/x-python",
   "name": "python",
   "nbconvert_exporter": "python",
   "pygments_lexer": "ipython3",
   "version": "3.8.8"
  }
 },
 "nbformat": 4,
 "nbformat_minor": 1
}
